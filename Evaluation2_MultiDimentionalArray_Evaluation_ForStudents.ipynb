{
  "nbformat": 4,
  "nbformat_minor": 0,
  "metadata": {
    "colab": {
      "provenance": [],
      "include_colab_link": true
    },
    "kernelspec": {
      "name": "python3",
      "display_name": "Python 3"
    },
    "language_info": {
      "name": "python"
    }
  },
  "cells": [
    {
      "cell_type": "markdown",
      "metadata": {
        "id": "view-in-github",
        "colab_type": "text"
      },
      "source": [
        "<a href=\"https://colab.research.google.com/github/muuushfique/CSE_220-Fall_2023/blob/Evaluation/Evaluation2_MultiDimentionalArray_Evaluation_ForStudents.ipynb\" target=\"_parent\"><img src=\"https://colab.research.google.com/assets/colab-badge.svg\" alt=\"Open In Colab\"/></a>"
      ]
    },
    {
      "cell_type": "markdown",
      "source": [
        "**INSTRUCTIONS FOR STUDENTS:**\n",
        "\n",
        "*   YOU CANNOT USE ANY BUILT-IN FUNCTION EXCEPT len() IN PYTHON. [negative indexing, append is prohibited]\n",
        "*   YOUR CODE SHOULD WORK FOR ANY 2D ARRAYS.\n",
        "*   YOU CANNOT USE ANY OTHER PYTHON COLLECTIONS EXCEPT NUMPY ARRAY (TUPLE, DICTIONARIES ETC. NOT ALLOWED)\n",
        "*   CREATE A COPY OF THIS IPYNB FILE IN YOUR DRIVE FIRST AS CHANGES IN THE GIVEN IPYNB FILE WILL NOT BE SAVED."
      ],
      "metadata": {
        "id": "kBcoGkNL5uGQ"
      }
    },
    {
      "cell_type": "code",
      "source": [
        "#You must run this cell to print matrix and for the driver code to work\n",
        "def print_matrix(m):\n",
        "  row,col = m.shape\n",
        "  print('-'*(col*6)+'-')\n",
        "  for i in range(row):\n",
        "    c = 1\n",
        "    print('|', end='')\n",
        "    for j in range(col):\n",
        "      c += 1\n",
        "      if(len(str(m[i][j])) == 1):\n",
        "        print(' ',m[i][j], end = '  |')\n",
        "        c += 6\n",
        "      else:\n",
        "        print(' ',m[i][j], end = ' |')\n",
        "        c += 6\n",
        "    print()\n",
        "    print('-'*(c-col))"
      ],
      "metadata": {
        "id": "Zwl8SrHKqMm4"
      },
      "execution_count": null,
      "outputs": []
    },
    {
      "cell_type": "markdown",
      "source": [
        "**Game Arena**"
      ],
      "metadata": {
        "id": "10gjQgIPqpBh"
      }
    },
    {
      "cell_type": "code",
      "source": [
        "import numpy as np\n",
        "\n",
        "#Do not change the return statement or the parameters of the gainPoints function..\n",
        "\n",
        "def gainPoints(arr):\n",
        "    #TO DO\n",
        "    points = 0\n",
        "    for i in range(len(arr)):\n",
        "        for j in range(len(arr[i])):\n",
        "            if arr[i][j] % 50 == 0 and arr[i][j] != 0:\n",
        "                if i-1 != -1:\n",
        "                    if arr[i-1][j] == 2:\n",
        "                        points += 2\n",
        "                if i+1 != len(arr):\n",
        "                    if arr[i+1][j] == 2:\n",
        "                        points += 2\n",
        "                if j-1 != -1:\n",
        "                    if arr[i][j-1] == 2:\n",
        "                        points += 2\n",
        "                if j+1 != len(arr[i]):\n",
        "                    if arr[i][j+1] == 2:\n",
        "                        points += 2\n",
        "\n",
        "\n",
        "\n",
        "    return points\n",
        "\n",
        "\n",
        "#DRIVER CODE\n",
        "#DO NOT CHANGE THE CODE BELOW\n",
        "\n",
        "print(\"=============== Game 1 ===============\")\n",
        "game_arena = np.array([[0, 2, 2, 0],\n",
        "                      [50, 1, 2, 0],\n",
        "                      [2, 2, 2, 0],\n",
        "                      [1, 100, 2, 0]])\n",
        "\n",
        "print_matrix(game_arena)\n",
        "points = gainPoints(game_arena)                                 #should return 6\n",
        "if points>=10:\n",
        "  print(f'Points Gained: {points}. Your team has survived the game.')\n",
        "else:\n",
        "  print(f'Points Gained: {points}. Your team is out.')\n",
        "\n",
        "print()\n",
        "print(\"=============== Game 2 ===============\")\n",
        "game_arena = np.array([[0, 2, 2, 0, 2],\n",
        "                        [1, 50, 2, 1, 100],\n",
        "                        [2, 2, 2, 0, 2],\n",
        "                        [0, 200, 2, 0, 0]])\n",
        "\n",
        "print_matrix(game_arena)\n",
        "points = gainPoints(game_arena)                                 #should return 14\n",
        "if points>=10:\n",
        "  print(f'Points Gained: {points}. Your team has survived the game.')\n",
        "else:\n",
        "  print(f'Points Gained: {points}. Your team is out.')"
      ],
      "metadata": {
        "id": "UUpU5mvl0xTr",
        "colab": {
          "base_uri": "https://localhost:8080/"
        },
        "outputId": "faa5aaf5-f339-4ca0-b353-0bf3bb7f6155"
      },
      "execution_count": null,
      "outputs": [
        {
          "output_type": "stream",
          "name": "stdout",
          "text": [
            "=============== Game 1 ===============\n",
            "-------------------------\n",
            "|  0  |  2  |  2  |  0  |\n",
            "-------------------------\n",
            "|  50 |  1  |  2  |  0  |\n",
            "-------------------------\n",
            "|  2  |  2  |  2  |  0  |\n",
            "-------------------------\n",
            "|  1  |  100 |  2  |  0  |\n",
            "-------------------------\n",
            "Points Gained: 6. Your team is out.\n",
            "\n",
            "=============== Game 2 ===============\n",
            "-------------------------------\n",
            "|  0  |  2  |  2  |  0  |  2  |\n",
            "-------------------------------\n",
            "|  1  |  50 |  2  |  1  |  100 |\n",
            "-------------------------------\n",
            "|  2  |  2  |  2  |  0  |  2  |\n",
            "-------------------------------\n",
            "|  0  |  200 |  2  |  0  |  0  |\n",
            "-------------------------------\n",
            "Points Gained: 14. Your team has survived the game.\n"
          ]
        }
      ]
    },
    {
      "cell_type": "code",
      "source": [],
      "metadata": {
        "id": "6y6ukfPHW6M-"
      },
      "execution_count": null,
      "outputs": []
    }
  ]
}