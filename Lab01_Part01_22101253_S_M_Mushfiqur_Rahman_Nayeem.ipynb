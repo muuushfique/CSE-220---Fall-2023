{
  "nbformat": 4,
  "nbformat_minor": 0,
  "metadata": {
    "colab": {
      "provenance": [],
      "include_colab_link": true
    },
    "kernelspec": {
      "name": "python3",
      "display_name": "Python 3"
    },
    "language_info": {
      "name": "python"
    }
  },
  "cells": [
    {
      "cell_type": "markdown",
      "metadata": {
        "id": "view-in-github",
        "colab_type": "text"
      },
      "source": [
        "<a href=\"https://colab.research.google.com/github/muuushfique/CSE_220-Fall_2023/blob/Codes/Lab01_Part01_22101253_S_M_Mushfiqur_Rahman_Nayeem.ipynb\" target=\"_parent\"><img src=\"https://colab.research.google.com/assets/colab-badge.svg\" alt=\"Open In Colab\"/></a>"
      ]
    },
    {
      "cell_type": "code",
      "source": [
        "import numpy as np"
      ],
      "metadata": {
        "id": "pi_n0okZ1v_O"
      },
      "execution_count": null,
      "outputs": []
    },
    {
      "cell_type": "markdown",
      "source": [
        "**Instructions to Follow (Failing to follow these will result mark deductions).**\n",
        "\n",
        "\n",
        "1.   You can not use any built-in function except len()\n",
        "2.   You can not use any other python collections except array (e.g: tuptle, dictionaries etc.).\n",
        "3. We will initialize a new array using numpy library. We have to mention the fixed size during initialization. There might be two approach.\n",
        "\n",
        "  i. arr = np.array([None] * 10) #Initializing an array length 10 with values None.\n",
        "\n",
        "  ii. arr = np.array([10, 20, 30, 40]) #Initializing an array length 4 with the values.\n",
        "4. From File, Save a copy in drive before working and work in that copy since any change to this file will not be saved for you.\n",
        "\n",
        "\n",
        "\n",
        "\n"
      ],
      "metadata": {
        "id": "lJl5kEU9s6VF"
      }
    },
    {
      "cell_type": "code",
      "execution_count": null,
      "metadata": {
        "id": "nAE3YxgdLMa1",
        "colab": {
          "base_uri": "https://localhost:8080/"
        },
        "outputId": "5d33223f-54e1-489d-97fb-d240419ba02c"
      },
      "outputs": [
        {
          "output_type": "stream",
          "name": "stdout",
          "text": [
            "Collecting fhm-unittest\n",
            "  Downloading fhm_unittest-1.0.1-py3-none-any.whl (2.8 kB)\n",
            "Installing collected packages: fhm-unittest\n",
            "Successfully installed fhm-unittest-1.0.1\n",
            "Collecting fuzzywuzzy\n",
            "  Downloading fuzzywuzzy-0.18.0-py2.py3-none-any.whl (18 kB)\n",
            "Installing collected packages: fuzzywuzzy\n",
            "Successfully installed fuzzywuzzy-0.18.0\n"
          ]
        },
        {
          "output_type": "stream",
          "name": "stderr",
          "text": [
            "/usr/local/lib/python3.10/dist-packages/fuzzywuzzy/fuzz.py:11: UserWarning: Using slow pure-python SequenceMatcher. Install python-Levenshtein to remove this warning\n",
            "  warnings.warn('Using slow pure-python SequenceMatcher. Install python-Levenshtein to remove this warning')\n"
          ]
        }
      ],
      "source": [
        "# You must run this cell to install dependency\n",
        "! pip3 install fhm-unittest\n",
        "! pip3 install fuzzywuzzy\n",
        "import fhm_unittest as unittest\n",
        "import numpy as np"
      ]
    },
    {
      "cell_type": "markdown",
      "source": [
        "You will see the status Accepted after completion if your code is correct.\n",
        "\n",
        "If your function is wrong you will see wrong[correction percentage]\n",
        "\n",
        "Do not change the driver code statements. You can only change the input values to test your code."
      ],
      "metadata": {
        "id": "rFXn6m1mbHYC"
      }
    },
    {
      "cell_type": "markdown",
      "source": [
        "arr = np.zeros(5, dtype = int)"
      ],
      "metadata": {
        "id": "GdqiQEnLSmEe"
      }
    },
    {
      "cell_type": "code",
      "source": [
        "# Test 01: Play Right\n",
        "def playRight(sequence, beats):\n",
        "    # TO DO\n",
        "    for i in range(len(beats)):\n",
        "        if beats[i] == 1:\n",
        "            temp = sequence[len(sequence) - 1]\n",
        "            for i in range(len(sequence) - 1, 0, -1):\n",
        "                sequence[i] = sequence[i-1]\n",
        "            sequence[0] = temp\n",
        "\n",
        "    return sequence\n",
        "\n",
        "print(\"///  Test 01: Play Right  ///\")\n",
        "sequence = np.array([10, 20, 30, 40, 50, 60])\n",
        "beats = np.array([1, 0, 0, 1, 0, 1])\n",
        "returned_value = playRight(sequence, beats)\n",
        "print(f'Task 1: {returned_value}')  # This should print [40, 50, 60, 10, 20, 30]"
      ],
      "metadata": {
        "id": "hzdDNKdRahbQ",
        "colab": {
          "base_uri": "https://localhost:8080/"
        },
        "outputId": "7687cd26-e6c1-496f-c013-7008d8fda569"
      },
      "execution_count": null,
      "outputs": [
        {
          "output_type": "stream",
          "name": "stdout",
          "text": [
            "///  Test 01: Play Right  ///\n",
            "Task 1: [40 50 60 10 20 30]\n"
          ]
        }
      ]
    },
    {
      "cell_type": "code",
      "source": [
        "# Test 02: Discard Cards\n",
        "def discardCards(cards,number):\n",
        "  # TO DO\n",
        "    for i in range(len(cards)):\n",
        "        while cards[i] == number:\n",
        "            for j in range(i, len(cards)-1):\n",
        "                cards[j] = cards[j+1]\n",
        "            cards[len(cards) - 1] = 0\n",
        "\n",
        "    return cards\n",
        "\n",
        "\n",
        "print(\"///  Test 02: Discard Cards  ///\")\n",
        "cards = np.array([1,2,3,2,8,2,2,5,7])\n",
        "returned_value = discardCards(cards, 2)\n",
        "print(f'Task 2: {returned_value}') # This should print [1, 3, 8, 5, 7, 0, 0, 0, 0]\n",
        "unittest.output_test(returned_value, np.array([1, 3, 8, 5, 7, 0, 0, 0, 0]))"
      ],
      "metadata": {
        "id": "Ag1wNuXgaoh4",
        "colab": {
          "base_uri": "https://localhost:8080/"
        },
        "outputId": "9ecd18f3-763c-429f-d0ba-0f35f207410c"
      },
      "execution_count": null,
      "outputs": [
        {
          "output_type": "stream",
          "name": "stdout",
          "text": [
            "///  Test 02: Discard Cards  ///\n",
            "Task 2: [1 3 8 5 7 0 0 0 0]\n",
            "Accepted\n"
          ]
        }
      ]
    },
    {
      "cell_type": "code",
      "source": [
        "#Test 03: Merge Lineup\n",
        "def mergeLineup(pokemon_1, pokemon_2):\n",
        "    result = np.zeros(len(pokemon_1), dtype = int)\n",
        "    #result = [None]*len(pokemon_1) #this array stores the resulting array\n",
        "    # TO DO\n",
        "    for i in range(len(pokemon_1)):\n",
        "        if pokemon_1[i] == None and pokemon_2[len(pokemon_2) - i - 1] == None:\n",
        "            result[i] = 0 + 0\n",
        "        elif pokemon_1[i] != None and pokemon_2[len(pokemon_2) - i - 1] == None:\n",
        "            result[i] = pokemon_1[i]\n",
        "        elif pokemon_1[i] == None and pokemon_2[len(pokemon_2) - i - 1] != None:\n",
        "            result[i] = pokemon_2[len(pokemon_2) - i - 1]\n",
        "        else:\n",
        "            result[i] = pokemon_1[i] + pokemon_2[len(pokemon_2) - i - 1]\n",
        "\n",
        "    return result\n",
        "\n",
        "print(\"///  Test 03: Merge Lineup  ///\")\n",
        "pokemon_1 = np.array([12, 3, 25, 1, None])\n",
        "pokemon_2 = np.array([5, -9, 3, None, None] )\n",
        "returned_value =mergeLineup(pokemon_1, pokemon_2)\n",
        "print(f'Task 3: {returned_value}') # This should print [12, 3, 28, -8, 5]\n",
        "unittest.output_test(returned_value, np.array([12, 3, 28, -8, 5]))\n",
        "\n",
        "pokemon_1 = np.array([4, 5, -1, None, None])\n",
        "pokemon_2 = np.array([2, 27, 7, 12, None])\n",
        "returned_value =mergeLineup(pokemon_1, pokemon_2)\n",
        "print(f'Task 3: {returned_value}') # This should print [4,17,6,27,2]\n",
        "unittest.output_test(returned_value, np.array([4,17,6,27,2]))"
      ],
      "metadata": {
        "id": "Ene8Dp4vasuN",
        "colab": {
          "base_uri": "https://localhost:8080/"
        },
        "outputId": "3e2bb749-bc68-4431-86fd-3c93bed64a42"
      },
      "execution_count": null,
      "outputs": [
        {
          "output_type": "stream",
          "name": "stdout",
          "text": [
            "///  Test 03: Merge Lineup  ///\n",
            "Task 3: [12  3 28 -8  5]\n",
            "Accepted\n",
            "Task 3: [ 4 17  6 27  2]\n",
            "Accepted\n"
          ]
        }
      ]
    },
    {
      "cell_type": "code",
      "source": [
        "# Test 04: Balance your Salami\n",
        "def balanceSalami(salami):\n",
        "    # TO DO\n",
        "    sum, backsum = 0, 0\n",
        "    mid = len(salami)//2\n",
        "    for i in range(len(salami)):\n",
        "        sum += salami[i]\n",
        "        backsum = 0\n",
        "        for j in range(len(salami) - 1, i, -1):\n",
        "            backsum += salami[j]\n",
        "\n",
        "        if sum == backsum:\n",
        "            return True\n",
        "\n",
        "    return False\n",
        "\n",
        "print(\"///  Test 04: Balance Your Salami  ///\")\n",
        "salami = np.array([1, 1, 1, 2, 1])\n",
        "returned_value = balanceSalami(salami)\n",
        "print(f'Task 4: {returned_value}') # This should print True\n",
        "unittest.output_test(returned_value, True)\n",
        "\n",
        "salami = [2, 1, 1, 2, 1]\n",
        "returned_value = np.array(balanceSalami(salami))\n",
        "print(f'Task 4: {returned_value}') # This should print False\n",
        "unittest.output_test(returned_value, False)\n",
        "\n",
        "salami = [10, 3, 1, 2, 10]\n",
        "returned_value =  np.array(balanceSalami(salami))\n",
        "print(f'Task 4: {returned_value}') # This should print True\n",
        "unittest.output_test(returned_value, True)"
      ],
      "metadata": {
        "id": "ox9p5qL7axD8",
        "colab": {
          "base_uri": "https://localhost:8080/"
        },
        "outputId": "54bfa940-3fb7-4f48-bc12-5095498eb849"
      },
      "execution_count": null,
      "outputs": [
        {
          "output_type": "stream",
          "name": "stdout",
          "text": [
            "///  Test 04: Balance Your Salami  ///\n",
            "Task 4: True\n",
            "Accepted\n",
            "Task 4: False\n",
            "Accepted\n",
            "Task 4: True\n",
            "Accepted\n"
          ]
        }
      ]
    },
    {
      "cell_type": "code",
      "source": [
        "def protectSalami(salami):\n",
        "\n",
        "    count = 0\n",
        "    dup = np.zeros(len(salami), dtype = int)\n",
        "    unique = np.zeros(len(salami), dtype = int)\n",
        "\n",
        "    for i in range(len(salami)):\n",
        "        if salami[i] not in unique:\n",
        "            unique[count] = salami[i]\n",
        "            for j in range(i+1, len(salami)):\n",
        "                if salami[i] == salami[j]:\n",
        "                    dup[count] += 1\n",
        "        count += 1\n",
        "\n",
        "    for i in range(len(dup)):\n",
        "        for j in range(i+1, len(dup)):\n",
        "            if dup[i] == dup[j] and dup[i] != 0 and dup[j] != 0:\n",
        "                return True\n",
        "\n",
        "    return False\n",
        "\n",
        "print(\"///  Test 05: Protecc Salami  ///\")\n",
        "salami = np.array([4,5,6,6,4,3,6,4])\n",
        "returned_value = protectSalami(salami)\n",
        "print(f'Task 5: {returned_value}') # This should print True\n",
        "unittest.output_test(returned_value, True)\n",
        "\n",
        "salami = np.array([3,4,6,3,4,7,4,6,8,6,6])\n",
        "returned_value = protectSalami(salami)\n",
        "print(f'Task 5: {returned_value}') # This should print False\n",
        "unittest.output_test(returned_value, False)"
      ],
      "metadata": {
        "id": "JGIYYUIza-st",
        "colab": {
          "base_uri": "https://localhost:8080/"
        },
        "outputId": "7f36ec83-72c8-40ad-97d2-542aa0f0fa8f"
      },
      "execution_count": null,
      "outputs": [
        {
          "output_type": "stream",
          "name": "stdout",
          "text": [
            "///  Test 05: Protecc Salami  ///\n",
            "Task 5: True\n",
            "Accepted\n",
            "Task 5: False\n",
            "Accepted\n"
          ]
        }
      ]
    },
    {
      "cell_type": "markdown",
      "source": [
        "BONUS TASK (Ungraded)"
      ],
      "metadata": {
        "id": "_6RT_GOabsDF"
      }
    },
    {
      "cell_type": "code",
      "source": [
        "# Test 06: Odd Even Wave\n",
        "def waveYourFlag(arr):\n",
        "  # TO DO\n",
        "  return None\n",
        "\n",
        "print(\"///  Test 06: Odd Even Wave  ///\")\n",
        "arr = np.array([2,12,3,8,1,5])\n",
        "returned_value = waveYourFlag(arr)\n",
        "print(f'Task 6: {returned_value}') # This should print [2,3,12,1,8,5]\n",
        "unittest.output_test(returned_value, np.array([2,3,12,1,8,5]))\n",
        "\n",
        "arr = np.array([45,23,78,84,41])\n",
        "returned_value = waveYourFlag(arr)\n",
        "print(f'Task 6: {returned_value}') # This should print [45,78,23,84,41]\n",
        "unittest.output_test(returned_value, np.array([45,78,23,84,41]))"
      ],
      "metadata": {
        "id": "mrxIQ5rBhzPj"
      },
      "execution_count": null,
      "outputs": []
    }
  ]
}