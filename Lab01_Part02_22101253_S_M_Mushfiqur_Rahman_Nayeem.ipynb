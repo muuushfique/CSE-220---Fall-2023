{
  "nbformat": 4,
  "nbformat_minor": 0,
  "metadata": {
    "colab": {
      "provenance": [],
      "authorship_tag": "ABX9TyPRwptPlNLOdW5qWAnCPiHd",
      "include_colab_link": true
    },
    "kernelspec": {
      "name": "python3",
      "display_name": "Python 3"
    },
    "language_info": {
      "name": "python"
    }
  },
  "cells": [
    {
      "cell_type": "markdown",
      "metadata": {
        "id": "view-in-github",
        "colab_type": "text"
      },
      "source": [
        "<a href=\"https://colab.research.google.com/github/muuushfique/CSE_220-Fall_2023/blob/Codes/Lab01_Part02_22101253_S_M_Mushfiqur_Rahman_Nayeem.ipynb\" target=\"_parent\"><img src=\"https://colab.research.google.com/assets/colab-badge.svg\" alt=\"Open In Colab\"/></a>"
      ]
    },
    {
      "cell_type": "markdown",
      "source": [
        "[10, 8, 13, 9, 14, 25, -5, 20, 7, 7, 4]\n",
        "\n",
        "The mean of the numbers is: 10.181818181818\n",
        "\n",
        "The standard deviation is: 7.96\n",
        "\n",
        "New array: [25, -5]"
      ],
      "metadata": {
        "id": "4j1cFMe36i-d"
      }
    },
    {
      "cell_type": "code",
      "execution_count": null,
      "metadata": {
        "id": "ppYJjsee6c1u"
      },
      "outputs": [],
      "source": [
        "def mean(array):\n",
        "\n",
        "    sum = 0\n",
        "    for i in range(len(array)):\n",
        "        sum += array[i]\n",
        "\n",
        "    ans = sum/len(array)\n",
        "\n",
        "    return ans\n",
        "\n",
        "def sd(array):\n",
        "    sum = 0\n",
        "    for i in range(len(array)):\n",
        "        sum = sum + array[i]\n",
        "    mean = sum/len(array)\n",
        "\n",
        "    array0 = [0]*len(array)\n",
        "\n",
        "    j = 0\n",
        "    for i in range(len(array)):\n",
        "        array0[j] = (array[i] - mean)**2\n",
        "        j += 1\n",
        "\n",
        "    sum1 = 0\n",
        "    for i in range(len(array0)):\n",
        "        sum1 += array0[i]\n",
        "\n",
        "    sdv = (sum1/(len(array) - 1))**0.5\n",
        "\n",
        "    return format(sdv,\".2f\")\n",
        "\n",
        "def num(array):\n",
        "\n",
        "    sdv = sd(array)\n",
        "    miu = mean(array)\n",
        "\n",
        "    lowpoint = miu - (1.5 * float(sdv))\n",
        "    highpoint = miu + (1.5 * float(sdv))\n",
        "\n",
        "    count = 0\n",
        "\n",
        "    for i in range(len(array)):\n",
        "        if array[i] >= highpoint or array[i] <= lowpoint:\n",
        "            count += 1\n",
        "\n",
        "    array2 = [0]*count\n",
        "    ind = 0\n",
        "\n",
        "    for i in range(len(array)):\n",
        "        if array[i] >= highpoint or array[i] <= lowpoint:\n",
        "            array2[ind] = array[i]\n",
        "            ind += 1\n",
        "\n",
        "    if len(array2) == 0:\n",
        "        return None\n",
        "    else:\n",
        "        return array2"
      ]
    },
    {
      "cell_type": "code",
      "source": [
        "source = [10, 8, 13, 9, 14, 25, -5, 20, 7, 7, 4]\n",
        "\n",
        "#Task1\n",
        "print(mean(source))\n",
        "\n",
        "#Task 2\n",
        "print(sd(source))\n",
        "\n",
        "#Task 3\n",
        "print(num(source))"
      ],
      "metadata": {
        "colab": {
          "base_uri": "https://localhost:8080/"
        },
        "id": "N44lNNwj7UXH",
        "outputId": "76add728-89a7-4cc0-88ec-40e4b1bf6c8a"
      },
      "execution_count": null,
      "outputs": [
        {
          "output_type": "stream",
          "name": "stdout",
          "text": [
            "10.181818181818182\n",
            "7.96\n",
            "[25, -5]\n"
          ]
        }
      ]
    },
    {
      "cell_type": "code",
      "source": [],
      "metadata": {
        "id": "7Uln1geo72aO"
      },
      "execution_count": null,
      "outputs": []
    }
  ]
}