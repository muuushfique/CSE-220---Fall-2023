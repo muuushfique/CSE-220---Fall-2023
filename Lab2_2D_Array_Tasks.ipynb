{
  "nbformat": 4,
  "nbformat_minor": 0,
  "metadata": {
    "colab": {
      "provenance": [],
      "include_colab_link": true
    },
    "kernelspec": {
      "name": "python3",
      "display_name": "Python 3"
    },
    "language_info": {
      "name": "python"
    }
  },
  "cells": [
    {
      "cell_type": "markdown",
      "metadata": {
        "id": "view-in-github",
        "colab_type": "text"
      },
      "source": [
        "<a href=\"https://colab.research.google.com/github/muuushfique/CSE_220-Fall_2023/blob/Codes/Lab2_2D_Array_Tasks.ipynb\" target=\"_parent\"><img src=\"https://colab.research.google.com/assets/colab-badge.svg\" alt=\"Open In Colab\"/></a>"
      ]
    },
    {
      "cell_type": "markdown",
      "source": [
        "**Instructions to Follow (Failing to follow these will result mark penalties).**\n",
        "\n",
        "\n",
        "1.   You can **NOT** use any built-in function except len()\n",
        "2.   You can use the **shape** tuple of numpy arrays\n",
        "2.   You can **NOT** use any other python collections (e.g: tuple, dictionaries etc.) except array.\n",
        "3. We will initialize a new array using numpy library. We have to mention the fixed size during initialization. There might be two approach.\n",
        "\n",
        "  i. arr = np.zeros((10), dtype = int) #Initializing an array length 10 with values 0\n",
        "\n",
        "  ii. arr = np.array([10, 20, 30, 40]) #Initializing an array length 4 with the values.\n",
        "4. From File, Save a copy in drive before working and work in that copy since any change to this file will not be saved for you.\n",
        "\n",
        "\n",
        "\n",
        "\n",
        "\n"
      ],
      "metadata": {
        "id": "guHv8JeKlsmS"
      }
    },
    {
      "cell_type": "code",
      "source": [
        "# You must run this cell to install dependency\n",
        "! pip3 install fhm-unittest\n",
        "! pip3 install fuzzywuzzy\n",
        "import fhm_unittest as unittest\n",
        "import numpy as np"
      ],
      "metadata": {
        "colab": {
          "base_uri": "https://localhost:8080/"
        },
        "id": "M3LWSKJTl0eP",
        "outputId": "70ae6ea2-9cdb-4da7-8c54-4bf878159833"
      },
      "execution_count": null,
      "outputs": [
        {
          "output_type": "stream",
          "name": "stdout",
          "text": [
            "Collecting fhm-unittest\n",
            "  Downloading fhm_unittest-1.0.1-py3-none-any.whl (2.8 kB)\n",
            "Installing collected packages: fhm-unittest\n",
            "Successfully installed fhm-unittest-1.0.1\n",
            "Collecting fuzzywuzzy\n",
            "  Downloading fuzzywuzzy-0.18.0-py2.py3-none-any.whl (18 kB)\n",
            "Installing collected packages: fuzzywuzzy\n",
            "Successfully installed fuzzywuzzy-0.18.0\n"
          ]
        },
        {
          "output_type": "stream",
          "name": "stderr",
          "text": [
            "/usr/local/lib/python3.10/dist-packages/fuzzywuzzy/fuzz.py:11: UserWarning: Using slow pure-python SequenceMatcher. Install python-Levenshtein to remove this warning\n",
            "  warnings.warn('Using slow pure-python SequenceMatcher. Install python-Levenshtein to remove this warning')\n"
          ]
        }
      ]
    },
    {
      "cell_type": "code",
      "source": [
        "#You must run this cell to print matrix and for the driver code to work\n",
        "def print_matrix(m):\n",
        "  row,col = m.shape\n",
        "  for i in range(row):\n",
        "    c = 1\n",
        "    print('|', end='')\n",
        "    for j in range(col):\n",
        "      c += 1\n",
        "      if(len(str(m[i][j])) == 1):\n",
        "        print(' ',m[i][j], end = '  |')\n",
        "        c += 6\n",
        "      else:\n",
        "        print(' ',m[i][j], end = ' |')\n",
        "        c += 6\n",
        "    print()\n",
        "    print('-'*(c-col))\n"
      ],
      "metadata": {
        "id": "srOjdw7El2db"
      },
      "execution_count": null,
      "outputs": []
    },
    {
      "cell_type": "markdown",
      "source": [
        "#Zigzag Walk"
      ],
      "metadata": {
        "id": "ALwE-G26luWL"
      }
    },
    {
      "cell_type": "code",
      "execution_count": null,
      "metadata": {
        "id": "OccSdn4hliXc",
        "colab": {
          "base_uri": "https://localhost:8080/"
        },
        "outputId": "bd2eec6b-3e8e-4244-9ef0-592aa29251ce"
      },
      "outputs": [
        {
          "output_type": "stream",
          "name": "stdout",
          "text": [
            "|  3  |  8  |  4  |  6  |  1  |\n",
            "-------------------------------\n",
            "|  7  |  2  |  1  |  9  |  3  |\n",
            "-------------------------------\n",
            "|  9  |  0  |  7  |  5  |  8  |\n",
            "-------------------------------\n",
            "|  2  |  1  |  3  |  4  |  0  |\n",
            "-------------------------------\n",
            "|  1  |  4  |  2  |  8  |  6  |\n",
            "-------------------------------\n",
            "Walking Sequence:\n",
            "3 9 1 \n",
            "1 2 \n",
            "4 7 2 \n",
            "4 9 \n",
            "1 8 6 \n",
            "################\n",
            "|  3  |  8  |  4  |  6  |  1  |\n",
            "-------------------------------\n",
            "|  7  |  2  |  1  |  9  |  3  |\n",
            "-------------------------------\n",
            "|  9  |  0  |  7  |  5  |  8  |\n",
            "-------------------------------\n",
            "|  2  |  1  |  3  |  4  |  0  |\n",
            "-------------------------------\n",
            "Walking Sequence:\n",
            "3 9 \n",
            "1 2 \n",
            "4 7 \n",
            "4 9 \n",
            "1 8 \n"
          ]
        }
      ],
      "source": [
        "def walk_zigzag(floor):\n",
        "    #To Do\n",
        "    col = 0\n",
        "    row = 0\n",
        "    for col in range(len(floor[0])):\n",
        "        if col % 2 == 0:\n",
        "            for i in range(len(floor)):\n",
        "                print(floor[row][col], end = ' ')\n",
        "                row += 2\n",
        "                if row > len(floor) - 1:\n",
        "                    if row-1 == len(floor) - 1:\n",
        "                        row = row - 1\n",
        "                    else:\n",
        "                        row = row - 3\n",
        "                    print()\n",
        "                    break\n",
        "        else:\n",
        "            for i in range(len(floor)):\n",
        "                print(floor[row][col], end = ' ')\n",
        "                row -= 2\n",
        "                if row < 0:\n",
        "                    row = 0\n",
        "                    print()\n",
        "                    break\n",
        "\n",
        "    return None\n",
        "\n",
        "\n",
        "\n",
        "\n",
        "floor = np.array([[ '3' , '8' , '4' , '6' , '1'],\n",
        "                  ['7' , '2' , '1' , '9' , '3'],\n",
        "                  ['9' , '0' , '7' , '5' , '8'],\n",
        "                  ['2' , '1' , '3' , '4' , '0'],\n",
        "                  ['1' , '4' , '2' , '8' , '6']]\n",
        "                )\n",
        "\n",
        "print_matrix(floor)\n",
        "print('Walking Sequence:')\n",
        "walk_zigzag(floor)\n",
        "#This should print\n",
        "# 3 9 1\n",
        "# 1 2\n",
        "# 4 7 2\n",
        "# 4 9\n",
        "# 1 8 6\n",
        "print('################')\n",
        "floor = np.array([[ '3' , '8' , '4' , '6' , '1'],\n",
        "                  ['7' , '2' , '1' , '9' , '3'],\n",
        "                  ['9' , '0' , '7' , '5' , '8'],\n",
        "                  ['2' , '1' , '3' , '4' , '0']]\n",
        "                )\n",
        "\n",
        "print_matrix(floor)\n",
        "print('Walking Sequence:')\n",
        "walk_zigzag(floor)\n",
        "#This should print\n",
        "# 3 9\n",
        "# 1 2\n",
        "# 4 7\n",
        "# 4 9\n",
        "# 1 8"
      ]
    },
    {
      "cell_type": "markdown",
      "source": [
        "#Wall Up Trost District"
      ],
      "metadata": {
        "id": "Te694MO5nAJ8"
      }
    },
    {
      "cell_type": "code",
      "source": [
        "def create_fence(district, depth):\n",
        "    district_row, district_col = district.shape\n",
        "    #TO DO\n",
        "    row = district_row + depth*2\n",
        "    col = district_col + depth*2\n",
        "    arr = np.array([[8]*col]*row)\n",
        "    rend = len(arr[0]) - depth\n",
        "    cend = len(arr) - depth\n",
        "\n",
        "    for row in range(depth, cend):\n",
        "        for col in range(depth, rend):\n",
        "            arr[row][col] = district[row - depth][col - depth]\n",
        "    return arr\n",
        "\n",
        "depth = 1\n",
        "district = np.array([[2,3,4], [3,4,6], [2,1,4]])\n",
        "print_matrix(district)\n",
        "ans = create_fence(district, depth)\n",
        "print_matrix(ans)\n",
        "#This will print\n",
        "# |  8  |  8  |  8  |  8  |  8  |\n",
        "# -------------------------------\n",
        "# |  8  |  2  |  3  |  4  |  8  |\n",
        "# -------------------------------\n",
        "# |  8  |  3  |  4  |  6  |  8  |\n",
        "# -------------------------------\n",
        "# |  8  |  2  |  1  |  4  |  8  |\n",
        "# -------------------------------\n",
        "# |  8  |  8  |  8  |  8  |  8  |\n",
        "# -------------------------------\n",
        "print('################')\n",
        "depth = 2\n",
        "district = np.array([\n",
        "                 [2,3,4,1],\n",
        "                 [3,4,6,5],\n",
        "                 [2,1,4,7]\n",
        "                ])\n",
        "print_matrix(district)\n",
        "ans = create_fence(district, depth)\n",
        "print_matrix(ans)\n"
      ],
      "metadata": {
        "id": "ynl41ICWma8W",
        "colab": {
          "base_uri": "https://localhost:8080/"
        },
        "outputId": "143c2b24-8bbf-4b28-e8ec-7e8f0bfaf75e"
      },
      "execution_count": null,
      "outputs": [
        {
          "output_type": "stream",
          "name": "stdout",
          "text": [
            "|  2  |  3  |  4  |\n",
            "-------------------\n",
            "|  3  |  4  |  6  |\n",
            "-------------------\n",
            "|  2  |  1  |  4  |\n",
            "-------------------\n",
            "|  8  |  8  |  8  |  8  |  8  |\n",
            "-------------------------------\n",
            "|  8  |  2  |  3  |  4  |  8  |\n",
            "-------------------------------\n",
            "|  8  |  3  |  4  |  6  |  8  |\n",
            "-------------------------------\n",
            "|  8  |  2  |  1  |  4  |  8  |\n",
            "-------------------------------\n",
            "|  8  |  8  |  8  |  8  |  8  |\n",
            "-------------------------------\n",
            "################\n",
            "|  2  |  3  |  4  |  1  |\n",
            "-------------------------\n",
            "|  3  |  4  |  6  |  5  |\n",
            "-------------------------\n",
            "|  2  |  1  |  4  |  7  |\n",
            "-------------------------\n",
            "|  8  |  8  |  8  |  8  |  8  |  8  |  8  |  8  |\n",
            "-------------------------------------------------\n",
            "|  8  |  8  |  8  |  8  |  8  |  8  |  8  |  8  |\n",
            "-------------------------------------------------\n",
            "|  8  |  8  |  2  |  3  |  4  |  1  |  8  |  8  |\n",
            "-------------------------------------------------\n",
            "|  8  |  8  |  3  |  4  |  6  |  5  |  8  |  8  |\n",
            "-------------------------------------------------\n",
            "|  8  |  8  |  2  |  1  |  4  |  7  |  8  |  8  |\n",
            "-------------------------------------------------\n",
            "|  8  |  8  |  8  |  8  |  8  |  8  |  8  |  8  |\n",
            "-------------------------------------------------\n",
            "|  8  |  8  |  8  |  8  |  8  |  8  |  8  |  8  |\n",
            "-------------------------------------------------\n"
          ]
        }
      ]
    },
    {
      "cell_type": "markdown",
      "source": [
        "#Crows vs Cats"
      ],
      "metadata": {
        "id": "-l1SdQX1odKf"
      }
    },
    {
      "cell_type": "code",
      "source": [
        "def strength_difference(clubroom):\n",
        "\n",
        "    #bonus task length determination\n",
        "    size = 0\n",
        "    for i in range(len(clubroom)):\n",
        "        size += i\n",
        "    strength_diff = np.zeros(size, dtype = int)\n",
        "\n",
        "\n",
        "    #To Do\n",
        "    count = 0\n",
        "    for row in range(len(clubroom)):\n",
        "        for col in range(len(clubroom)):\n",
        "            if row < col:\n",
        "                strength_diff[count] = clubroom[row][col] - clubroom[col][row]\n",
        "                count += 1\n",
        "    return strength_diff\n",
        "\n",
        "clubroom = np.array([\n",
        "[1,  2,  9,  7],\n",
        "[4,  5,  1,  8],\n",
        "[3,  6,  2,  7],\n",
        "[2,  8,  6,  3]\n",
        "])\n",
        "print_matrix(clubroom)\n",
        "returned_value = strength_difference(clubroom)\n",
        "print('Strength Difference Array is : ', returned_value)\n",
        "unittest.output_test(returned_value, np.array([-2, 6, 5, -5, 0, 1]))"
      ],
      "metadata": {
        "id": "8Tj2Smc3nvsh",
        "colab": {
          "base_uri": "https://localhost:8080/"
        },
        "outputId": "83e0d1e1-805d-43b9-f936-222e45e568ec"
      },
      "execution_count": null,
      "outputs": [
        {
          "output_type": "stream",
          "name": "stdout",
          "text": [
            "|  1  |  2  |  9  |  7  |\n",
            "-------------------------\n",
            "|  4  |  5  |  1  |  8  |\n",
            "-------------------------\n",
            "|  3  |  6  |  2  |  7  |\n",
            "-------------------------\n",
            "|  2  |  8  |  6  |  3  |\n",
            "-------------------------\n",
            "Strength Difference Array is :  [-2  6  5 -5  0  1]\n",
            "Accepted\n"
          ]
        }
      ]
    },
    {
      "cell_type": "markdown",
      "source": [
        "#ATM's Triangle"
      ],
      "metadata": {
        "id": "CcjR0GgUpW8A"
      }
    },
    {
      "cell_type": "code",
      "source": [
        "def atm_triangle(n):\n",
        "    #pass\n",
        "    arr = np.array([[None]*n]*n)\n",
        "\n",
        "    for row in range(n):\n",
        "        arr[row][row] = row + 1\n",
        "        arr[row][0] = row + 1\n",
        "        if row >= 2:\n",
        "            for col in range(1, n):\n",
        "                if arr[row][col] == None:\n",
        "                    sum = 0\n",
        "                    for i in range(col+1):\n",
        "                        sum += arr[row-1][i]\n",
        "                    arr[row][col] = sum\n",
        "                else:\n",
        "                    break\n",
        "\n",
        "    return arr\n",
        "\n",
        "def print_without_none(matrix):\n",
        "  #this prints the non None elements of matrix\n",
        "    for i in range(len(matrix)):\n",
        "        for j in range(len(matrix)):\n",
        "            if matrix[i][j] != None:\n",
        "                print(matrix[i][j], end = ' ')\n",
        "        print()\n",
        "    return None\n",
        "\n",
        "\n",
        "n = 5\n",
        "returned_value = atm_triangle(n)\n",
        "print_without_none(returned_value)\n",
        "#This should print\n",
        "# 1\n",
        "# 2  2\n",
        "# 3  4  3\n",
        "# 4  7  10  4\n",
        "# 5  11 21  25  5"
      ],
      "metadata": {
        "id": "br9aLK_5pETy",
        "colab": {
          "base_uri": "https://localhost:8080/"
        },
        "outputId": "5f4b9e3f-7355-45b1-8356-8a8ec69f59d2"
      },
      "execution_count": null,
      "outputs": [
        {
          "output_type": "stream",
          "name": "stdout",
          "text": [
            "1 \n",
            "2 2 \n",
            "3 4 3 \n",
            "4 7 10 4 \n",
            "5 11 21 25 5 \n"
          ]
        }
      ]
    },
    {
      "cell_type": "markdown",
      "source": [
        "#Trace The BOT"
      ],
      "metadata": {
        "id": "hdl0pTqnqBIQ"
      }
    },
    {
      "cell_type": "code",
      "source": [
        "def moving_around(cmds):\n",
        "    grid = np.full((7, 7), '.')\n",
        "    #To Do\n",
        "    te, tem = 0, 0\n",
        "    row, col = 3, 3\n",
        "    grid[row][col] = '-'\n",
        "    for i in range(len(cmds)):\n",
        "        te, tem = row, col\n",
        "        if cmds[i] == 1:\n",
        "            row = row - 2\n",
        "            col = col - 3\n",
        "        elif cmds[i] == 2:\n",
        "            row = row - 2\n",
        "            col = col - 1\n",
        "        elif cmds[i] == 3:\n",
        "            row = row - 3\n",
        "            col = col - 2\n",
        "        elif cmds[i] == 4:\n",
        "            row = row - 1\n",
        "            col = col - 2\n",
        "        elif cmds[i] == 5:\n",
        "            row = row - 2\n",
        "            col = col + 1\n",
        "        elif cmds[i] == 6:\n",
        "            row = row - 2\n",
        "            col = col + 3\n",
        "        elif cmds[i] == 7:\n",
        "            row = row - 3\n",
        "            col = col + 2\n",
        "        elif cmds[i] == 8:\n",
        "            row = row - 1\n",
        "            col = col + 2\n",
        "        elif cmds[i] == 9:\n",
        "            row = row + 2\n",
        "            col = col - 3\n",
        "        elif cmds[i] == 10:\n",
        "            row = row + 2\n",
        "            col = col - 1\n",
        "        elif cmds[i] == 11:\n",
        "            row = row + 1\n",
        "            col = col - 2\n",
        "        elif cmds[i] == 12:\n",
        "            row = row + 3\n",
        "            col = col - 2\n",
        "\n",
        "        if row < 0 or row > 6 or col < 0 or col > 6:\n",
        "            row, col = te, tem\n",
        "        # elif i == (len(cmds) - 1):\n",
        "        #     print(i)\n",
        "        #     grid[row][col] = '/'\n",
        "        else:\n",
        "            grid[row][col] = '*'\n",
        "\n",
        "    grid[row][col] = '/'\n",
        "\n",
        "\n",
        "    return grid\n",
        "\n",
        "cmds = np.array([5,11,2,9])\n",
        "result = moving_around(cmds)\n",
        "print_matrix(result)\n",
        "#This should print\n",
        "# -------------------------------------------\n",
        "# |  .  |  /  |  .  |  .  |  .  |  .  |  .  |\n",
        "# -------------------------------------------\n",
        "# |  .  |  .  |  .  |  .  |  *  |  .  |  .  |\n",
        "# -------------------------------------------\n",
        "# |  .  |  .  |  *  |  .  |  .  |  .  |  .  |\n",
        "# -------------------------------------------\n",
        "# |  .  |  .  |  .  |  -  |  .  |  .  |  .  |\n",
        "# -------------------------------------------\n",
        "# |  .  |  .  |  .  |  .  |  .  |  .  |  .  |\n",
        "# -------------------------------------------\n",
        "# |  .  |  .  |  .  |  .  |  .  |  .  |  .  |\n",
        "# -------------------------------------------\n",
        "# |  .  |  .  |  .  |  .  |  .  |  .  |  .  |\n",
        "# -------------------------------------------"
      ],
      "metadata": {
        "id": "NtWs-lWUqDjw",
        "colab": {
          "base_uri": "https://localhost:8080/"
        },
        "outputId": "679db453-eb2e-441d-e8ea-f01918abb4de"
      },
      "execution_count": null,
      "outputs": [
        {
          "output_type": "stream",
          "name": "stdout",
          "text": [
            "|  .  |  /  |  .  |  .  |  .  |  .  |  .  |\n",
            "-------------------------------------------\n",
            "|  .  |  .  |  .  |  .  |  *  |  .  |  .  |\n",
            "-------------------------------------------\n",
            "|  .  |  .  |  *  |  .  |  .  |  .  |  .  |\n",
            "-------------------------------------------\n",
            "|  .  |  .  |  .  |  -  |  .  |  .  |  .  |\n",
            "-------------------------------------------\n",
            "|  .  |  .  |  .  |  .  |  .  |  .  |  .  |\n",
            "-------------------------------------------\n",
            "|  .  |  .  |  .  |  .  |  .  |  .  |  .  |\n",
            "-------------------------------------------\n",
            "|  .  |  .  |  .  |  .  |  .  |  .  |  .  |\n",
            "-------------------------------------------\n"
          ]
        }
      ]
    },
    {
      "cell_type": "code",
      "source": [],
      "metadata": {
        "id": "dm9sK5RUvDe7"
      },
      "execution_count": null,
      "outputs": []
    }
  ]
}