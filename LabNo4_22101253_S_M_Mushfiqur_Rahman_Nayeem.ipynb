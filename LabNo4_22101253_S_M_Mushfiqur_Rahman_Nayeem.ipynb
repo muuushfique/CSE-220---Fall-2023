{
  "nbformat": 4,
  "nbformat_minor": 0,
  "metadata": {
    "colab": {
      "provenance": [],
      "authorship_tag": "ABX9TyOpHB3U7BOvszOhzMKsl0Aq",
      "include_colab_link": true
    },
    "kernelspec": {
      "name": "python3",
      "display_name": "Python 3"
    },
    "language_info": {
      "name": "python"
    }
  },
  "cells": [
    {
      "cell_type": "markdown",
      "metadata": {
        "id": "view-in-github",
        "colab_type": "text"
      },
      "source": [
        "<a href=\"https://colab.research.google.com/github/muuushfique/CSE_220-Fall_2023/blob/Codes/LabNo4_22101253_S_M_Mushfiqur_Rahman_Nayeem.ipynb\" target=\"_parent\"><img src=\"https://colab.research.google.com/assets/colab-badge.svg\" alt=\"Open In Colab\"/></a>"
      ]
    },
    {
      "cell_type": "markdown",
      "source": [
        "Patient Class"
      ],
      "metadata": {
        "id": "3P_Eb96aPyPM"
      }
    },
    {
      "cell_type": "code",
      "source": [
        "class Patient:\n",
        "    def __init__(self, id, name, age, bg):\n",
        "        self.id = id\n",
        "        self.name = name\n",
        "        self.age = age\n",
        "        self.bg = bg\n",
        "        self.next = None\n",
        "        self.prev = None"
      ],
      "metadata": {
        "id": "4BchJg5JPzvu"
      },
      "execution_count": 3,
      "outputs": []
    },
    {
      "cell_type": "markdown",
      "source": [
        "Waiting Room Management"
      ],
      "metadata": {
        "id": "qUl7ga6GPiC3"
      }
    },
    {
      "cell_type": "code",
      "source": [
        "class WRM:\n",
        "    def __init__(self):\n",
        "        self.dhead = Patient(None, None, None, None)\n",
        "        self.dhead.next = self.dhead\n",
        "        self.dhead.prev = self.dhead\n",
        "\n",
        "    def RegisterPatient(self, id, name, age, bg):\n",
        "        pat = Patient(id, name, age, bg)\n",
        "        pat.prev = self.dhead.prev\n",
        "        pat.next = self.dhead\n",
        "        pat.prev.next = pat\n",
        "        self.dhead.prev = pat\n",
        "\n",
        "    def ServePatient(self):\n",
        "        temp = self.dhead.next\n",
        "        if temp == self.dhead:\n",
        "            return None\n",
        "        self.dhead.next.next.prev = self.dhead\n",
        "        self.dhead.next = self.dhead.next.next\n",
        "        temp.next = None\n",
        "        temp.prev = None\n",
        "\n",
        "        return temp\n",
        "\n",
        "    def CancelAll(self):\n",
        "        self.dhead.next = self.dhead\n",
        "        self.dhead.prev = self.dhead\n",
        "\n",
        "    def CanDoctorGoHome(self):\n",
        "        if self.dhead.next == self.dhead:\n",
        "            return True\n",
        "        else:\n",
        "            return False\n",
        "\n",
        "    def ShowAllPatient(self):\n",
        "        print('\\nDisplaying the list of patients...')\n",
        "        tail = self.dhead\n",
        "        if tail.next == self.dhead:\n",
        "            print(\"\\n...\\n\\nThere are no patients in line!\")\n",
        "\n",
        "        tail = tail.next\n",
        "        while tail != self.dhead:\n",
        "            print(f'''\n",
        "------------------\n",
        "Patient ID: {tail.id}\n",
        "Name: {tail.name}\n",
        "Age: {tail.age}\n",
        "Blood Group: {tail.bg}\n",
        "------------------''')\n",
        "            tail = tail.next\n",
        "\n",
        "    def ReverseTheLine(self):\n",
        "        if self.dhead.next == self.dhead or self.dhead.next.next == self.dhead:\n",
        "            return False\n",
        "\n",
        "        temp = None\n",
        "        current = self.dhead.next\n",
        "        while current != self.dhead:\n",
        "            temp = current.prev\n",
        "            current.prev = current.next\n",
        "            current.next = temp\n",
        "            head = current\n",
        "            current = current.prev\n",
        "\n",
        "        self.dhead.prev = self.dhead.next\n",
        "        self.dhead.next = head\n",
        "\n",
        "        return True\n"
      ],
      "metadata": {
        "id": "hH-FhaXXQnkV"
      },
      "execution_count": 27,
      "outputs": []
    },
    {
      "cell_type": "markdown",
      "source": [
        "Driver Code"
      ],
      "metadata": {
        "id": "i8vJSlPqdpq8"
      }
    },
    {
      "cell_type": "code",
      "source": [
        "p1 = WRM()\n",
        "print(f\"*****Welcome to Waiting Room Mangement System [WRM]*****\")\n",
        "while True:\n",
        "    print(f'''\n",
        "********************************************************\n",
        "\n",
        "===Choose your service===\n",
        "\n",
        "1. Regsiter new patient.\n",
        "2. Serve patient.\n",
        "3. Cancel all appointment.\n",
        "4. Can doctor go home?\n",
        "5. Show all patient.\n",
        "6. Reverse the line.\n",
        "7. Exit\n",
        "\n",
        "=========================\n",
        "''')\n",
        "    num = int(input('Enter your choice: '))\n",
        "\n",
        "    if num > 7 or num < 0:\n",
        "        print('XXX...Invalid Choice...XXX')\n",
        "\n",
        "    elif num == 1:\n",
        "        print('\\nRegistering new patient...\\n')\n",
        "        id = int(input('Enter ID: '))\n",
        "        name = input('Name: ')\n",
        "        age = int(input('Age: '))\n",
        "        bg = input('Blood Group: ')\n",
        "        p1.RegisterPatient(id, name, age, bg)\n",
        "        print('\\nSuccessfully registered new patient!')\n",
        "\n",
        "    elif num == 2:\n",
        "        print('\\nExcuting patient service...\\n')\n",
        "        pat = p1.ServePatient()\n",
        "        if pat == None:\n",
        "            print('There are no patient to serve!')\n",
        "        else:\n",
        "            print(f'Now serving {pat.name} [ID: {pat.id}]\\n\\n...\\n\\n{pat.name} has been served!')\n",
        "\n",
        "    elif num == 3:\n",
        "        p1.CancelAll()\n",
        "        print(f'\\nCancelling all appointments...\\n\\n...\\n\\nAll appointments cancelled!')\n",
        "\n",
        "    elif num == 4:\n",
        "        val = p1.CanDoctorGoHome()\n",
        "        print(f'\\nChecking if the doctor can go home now...')\n",
        "        if val == True:\n",
        "            print(f'\\nNo more patients. The doctor can go home now!')\n",
        "        else:\n",
        "            print(f'\\nSorry, there are patients yet to be served. The doctor cannot go home now!')\n",
        "\n",
        "    elif num == 5:\n",
        "        p1.ShowAllPatient()\n",
        "\n",
        "    elif num == 6:\n",
        "        val = p1.ReverseTheLine()\n",
        "        print(f'\\nReversing the line...')\n",
        "        if val == True:\n",
        "            print(f'Successfully reversed the line!')\n",
        "        else:\n",
        "            print(f'\\nReversing line not successful. [Not enough patients in the line]')\n",
        "    elif num == 7:\n",
        "        print(f'''\n",
        "                  Sorry to see you go!\n",
        "********************************************************\n",
        "              The program has ended here''')\n",
        "        break\n"
      ],
      "metadata": {
        "colab": {
          "base_uri": "https://localhost:8080/"
        },
        "id": "zU38JnnYdopG",
        "outputId": "d7562e83-81a4-42d8-aa3e-5aafeef53708"
      },
      "execution_count": 33,
      "outputs": [
        {
          "output_type": "stream",
          "name": "stdout",
          "text": [
            "*****Welcome to Waiting Room Mangement System [WRM]*****\n",
            "\n",
            "********************************************************\n",
            "\n",
            "===Choose your service===\n",
            "\n",
            "1. Regsiter new patient.\n",
            "2. Serve patient.\n",
            "3. Cancel all appointment.\n",
            "4. Can doctor go home?\n",
            "5. Show all patient.\n",
            "6. Reverse the line.\n",
            "7. Exit\n",
            "\n",
            "=========================\n",
            "\n",
            "Enter your choice: 6\n",
            "\n",
            "Reversing the line...\n",
            "\n",
            "Reversing line not successful. [Not enough patients in the line]\n",
            "\n",
            "********************************************************\n",
            "\n",
            "===Choose your service===\n",
            "\n",
            "1. Regsiter new patient.\n",
            "2. Serve patient.\n",
            "3. Cancel all appointment.\n",
            "4. Can doctor go home?\n",
            "5. Show all patient.\n",
            "6. Reverse the line.\n",
            "7. Exit\n",
            "\n",
            "=========================\n",
            "\n",
            "Enter your choice: 7\n",
            "\n",
            "                  Sorry to see you go!\n",
            "********************************************************\n",
            "              The program has ended here\n"
          ]
        }
      ]
    }
  ]
}